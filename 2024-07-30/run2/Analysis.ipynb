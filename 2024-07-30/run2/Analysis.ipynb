{
 "cells": [
  {
   "cell_type": "code",
   "execution_count": null,
   "metadata": {},
   "outputs": [],
   "source": [
    "import sys\n",
    "sys.path.append('/Users/benj/Documents/HiSPEC-analysis-2/')\n",
    "import SEC_Class_working as sp\n",
    "import os\n",
    "import matplotlib.pyplot as plt\n",
    "import SEC_Class_working as sp\n",
    "import pandas as pd\n",
    "import numpy as np\n",
    "import matplotlib.pyplot as plt\n",
    "import cmcrameri.cm as cmc\n",
    "from scipy import signal\n"
   ]
  },
  {
   "cell_type": "code",
   "execution_count": null,
   "metadata": {},
   "outputs": [],
   "source": [
    "# get the path for the bentham light source\n",
    "AndorPath = sp.select_file_path()\n",
    "CV_path = sp.select_file_path()\n",
    "\n",
    "print(AndorPath, \"\\n\", CV_path)     "
   ]
  },
  {
   "cell_type": "code",
   "execution_count": null,
   "metadata": {},
   "outputs": [],
   "source": [
    "# get in the first spectral object which is for the bentham light source\n",
    "SpEC1 = sp.SpEC()\n",
    "SpEC1.read_CV(CV_path)\n",
    "SpEC1.generate_interpolation_function()\n",
    "SpEC1.read_Andorspec(AndorPath)\n",
    "SpEC1.Calibrate_Andorspec()\n",
    "SpEC1.populate_spec_scans()\n",
    "SpEC1.populate_CV_scans()\n",
    "SpEC1.Downsample_spec_scans(0.005, 1)\n",
    "test, ref =sp.calculateDOD(SpEC1, 0, 'Cathodic', -1,11)"
   ]
  },
  {
   "cell_type": "code",
   "execution_count": null,
   "metadata": {},
   "outputs": [],
   "source": [
    "test=SpEC1.CV"
   ]
  },
  {
   "cell_type": "code",
   "execution_count": null,
   "metadata": {},
   "outputs": [],
   "source": []
  },
  {
   "cell_type": "code",
   "execution_count": null,
   "metadata": {},
   "outputs": [],
   "source": [
    "output_dir = 'Plots'\n",
    "full_output_path = os.path.join(AndorPath.parent, output_dir)\n",
    "os.makedirs(full_output_path, exist_ok=True)\n",
    "\n",
    "for key, value in SpEC1.CV_scans.items():\n",
    "\n",
    "        for key2, value2 in value.items():\n",
    "            CV=SpEC1.CV_scans[key][key2]\n",
    "            if key2 == 'Anodic':\n",
    "                test, ref =sp.calculateDOD(SpEC1, key, key2, 1.4, 21)\n",
    "                sp.Co_plot_DOD_and_CV(test,\n",
    "                                      CV,\n",
    "                                        Title=f'Cycle {key} {key2}',\n",
    "                                          y_max=0.045, y_min=-0.01,\n",
    "                                            x_min=400, x_max=800,\n",
    "                                              reference_potential=f\"$ {ref}V_{{Ag/AgCl}}$\",\n",
    "                                                scan_direction=key2,\n",
    "                                                  cmap_option=cmc.roma)\n",
    "            elif key2 == 'Cathodic':\n",
    "                test, ref =sp.calculateDOD(SpEC1, key, key2, 1.4, 21)\n",
    "                sp.Co_plot_DOD_and_CV(test,\n",
    "                                      CV,\n",
    "                                        Title=f'Cycle {key} {key2}',\n",
    "                                          y_max=0.01, y_min=-0.04,\n",
    "                                            x_min=400, x_max=800,\n",
    "                                              reference_potential=f\"$ {ref}V_{{Ag/AgCl}}$\",\n",
    "                                                scan_direction=key2,\n",
    "                                                  cmap_option=cmc.roma)\n",
    "            #plt.savefig(os.path.join(full_output_path, f'Cycle_{key}_{key2}.png'))\n",
    "            plt.close() "
   ]
  },
  {
   "cell_type": "code",
   "execution_count": null,
   "metadata": {},
   "outputs": [],
   "source": [
    "data, ref=sp.calculateDOD(SpEC1, 0, 'Cathodic', -0.2, 21)\n",
    "sp.plot_DOD(data, y_max=0.046, y_min=-0.01, x_min=400, x_max=800, reference_potential=f\"$ {ref}V_{{Ag/AgCl}}$\")"
   ]
  },
  {
   "cell_type": "code",
   "execution_count": null,
   "metadata": {},
   "outputs": [],
   "source": [
    "data=sp.calculateDOD(SpEC1, 0, 'Anodic', -0.2, 21)[0]\n",
    "data"
   ]
  },
  {
   "cell_type": "code",
   "execution_count": null,
   "metadata": {},
   "outputs": [],
   "source": [
    "test=SpEC1.CV_scans[0]['Anodic']\n",
    "\n",
    "# plot the fist and second collumns of test\n",
    "\n",
    "plt.plot(test.iloc[:,1], test.iloc[:,2])\n",
    "# set the y range from -0.0001 to 0.002\n",
    "plt.ylim(-0.0002, 0.002)\n",
    "#"
   ]
  },
  {
   "cell_type": "code",
   "execution_count": null,
   "metadata": {},
   "outputs": [],
   "source": [
    "import numpy as np\n",
    "import matplotlib.pyplot as plt\n",
    "from scipy.interpolate import UnivariateSpline\n",
    "\n",
    "# Extract current and voltage data from the DataFrame\n",
    "J = test.iloc[:, 2]\n",
    "E = test.iloc[:, 1]\n",
    "\n",
    "# Sort the data by voltage\n",
    "sorted_indices = np.argsort(E)\n",
    "E_sorted = E.iloc[sorted_indices]\n",
    "J_sorted = J.iloc[sorted_indices]\n",
    "\n",
    "# Fit the CV to a spline function\n",
    "spl = UnivariateSpline(E_sorted, J_sorted)\n",
    "spl.set_smoothing_factor(0.000001)\n",
    "\n",
    "# Plot the spline function\n",
    "plt.plot(E_sorted, spl(E_sorted), 'r', lw=1)\n",
    "\n",
    "# Plot the original data\n",
    "plt.plot(E_sorted, J_sorted, 'b', lw=1) \n",
    "plt.xlabel('Voltage (E)')\n",
    "plt.ylabel('Current (J)')\n",
    "plt.title('CV Spline Fit')\n",
    "# set the x range from -0.2 to 1.5\n",
    "plt.xlim(-0.2, 1.5)\n",
    "\n",
    "# set the y range from -0.002 to 0.002\n",
    "plt.ylim(-0.002, 0.002)\n",
    "\n",
    "plt.show()\n",
    "\n",
    "# use the spline function to calculate the current at a specific voltage\n",
    "spl(0.)\n",
    "\n",
    "\n",
    "\n"
   ]
  },
  {
   "cell_type": "code",
   "execution_count": null,
   "metadata": {},
   "outputs": [],
   "source": [
    "sorted_indices"
   ]
  },
  {
   "cell_type": "code",
   "execution_count": null,
   "metadata": {},
   "outputs": [],
   "source": [
    "Spectral_voltages=data.columns.values\n",
    "Spectral_currents=spl(Spectral_voltages)\n",
    "\n",
    "Cell_resistance=10 # ohms\n",
    "\n",
    "iR=Cell_resistance*Spectral_currents\n",
    "\n",
    "Spectral_voltages_corrected=Spectral_voltages-iR\n",
    "\n",
    "plt.plot(Spectral_voltages_corrected, Spectral_currents)\n",
    "\n"
   ]
  },
  {
   "cell_type": "code",
   "execution_count": null,
   "metadata": {},
   "outputs": [],
   "source": [
    "# use Spectral_voltages_corrected as the collumn names for the data\n",
    "\n",
    "data_iR=data.copy(deep=True) \n",
    "\n",
    "data_iR.columns=Spectral_voltages_corrected\n",
    "\n",
    "data_iR\n",
    "\n",
    "# use plot_DOD to plot the data_iR\n",
    "\n",
    "sp.plot_DOD(data_iR, y_max=0.046, y_min=-0.01, x_min=400, x_max=800, reference_potential=f\"$ {ref}V_{{Ag/AgCl}}$\")"
   ]
  },
  {
   "cell_type": "code",
   "execution_count": null,
   "metadata": {},
   "outputs": [],
   "source": [
    "\n",
    "# normalise the data_iR\n",
    "\n",
    "data_iR_norm=sp.normalise_DOD(data_iR.abs())\n",
    "\n",
    "# plot the normalised data_iR\n",
    "\n",
    "sp.plot_DOD(data_iR_norm, y_max=1.1, y_min=-0.1, x_min=400, x_max=800, reference_potential=f\"$ {ref}V_{{Ag/AgCl}}$\")\n",
    "\n"
   ]
  },
  {
   "cell_type": "code",
   "execution_count": null,
   "metadata": {},
   "outputs": [],
   "source": [
    "# loop though data_iR_norm and from collumn 20 to collumn n-20 \n",
    "# subtract collumn 20 from collumn i-20, put this into a new dataframe called data_iR_norm_diff\n",
    "\n",
    "step=20\n",
    "data_iR_diff=pd.DataFrame()\n",
    "for i in range(step, len(data_iR_norm.columns)-step):\n",
    "    data_iR_diff[data_iR_norm.columns[i]]=data_iR_norm[data_iR_norm.columns[i]]-data_iR_norm[data_iR_norm.columns[i-20]]\n",
    "    # apply a savinky golay filter to the data_iR_norm_diff using the function savgol_filter from scipy.signal\n",
    "    data_iR_diff[data_iR_norm.columns[i]]=signal.savgol_filter(data_iR_diff[data_iR_norm.columns[i]], 5, 3)\n",
    "\n",
    "    \n",
    "# normalise the data_iR_diff\n",
    "\n",
    "data_iR_diff_norm=sp.normalise_DOD(data_iR_diff.abs())\n",
    "\n",
    "\n",
    "sp.plot_DOD(data_iR_diff_norm, y_max=1.1, y_min=-0.1, x_min=400, x_max=800, reference_potential=f\"Normalised\")\n",
    "\n",
    "\n"
   ]
  },
  {
   "cell_type": "code",
   "execution_count": null,
   "metadata": {},
   "outputs": [],
   "source": [
    "print(data_iR_diff_norm.columns.values[0], data_iR_diff_norm.columns.values[50], data_iR_diff_norm_U.columns.values[90])"
   ]
  },
  {
   "cell_type": "code",
   "execution_count": null,
   "metadata": {},
   "outputs": [],
   "source": [
    "Ustart=data_iR_diff_norm.columns.values[0]\n",
    "Uend=data_iR_diff_norm.columns.values[200]\n",
    "\n",
    "\n",
    "# get the data between Ustart and Uend\n",
    "\n",
    "data_iR_diff_norm_U=data_iR_diff_norm.loc[:, Ustart:Uend]\n",
    "\n",
    "# plot the data_iR_diff_norm_U\n",
    "\n",
    "sp.plot_DOD(data_iR_diff_norm_U, y_max=1.1, y_min=-0.1, x_min=400, x_max=800, reference_potential=f\"Normalised\")"
   ]
  },
  {
   "cell_type": "code",
   "execution_count": null,
   "metadata": {},
   "outputs": [],
   "source": []
  }
 ],
 "metadata": {
  "kernelspec": {
   "display_name": "pymc_env",
   "language": "python",
   "name": "python3"
  },
  "language_info": {
   "codemirror_mode": {
    "name": "ipython",
    "version": 3
   },
   "file_extension": ".py",
   "mimetype": "text/x-python",
   "name": "python",
   "nbconvert_exporter": "python",
   "pygments_lexer": "ipython3",
   "version": "3.11.9"
  }
 },
 "nbformat": 4,
 "nbformat_minor": 2
}
